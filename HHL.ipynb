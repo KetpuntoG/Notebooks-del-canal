{
 "cells": [
  {
   "cell_type": "markdown",
   "id": "fc419575",
   "metadata": {},
   "source": [
    "![img](hhl_model.jpeg)"
   ]
  },
  {
   "cell_type": "code",
   "execution_count": 1,
   "id": "27c3d840",
   "metadata": {},
   "outputs": [],
   "source": [
    "import pennylane as qml\n",
    "import numpy as np\n",
    "\n",
    "# Esta celda es el conjunto de operaciones necesarias para implementar la división \n",
    "\n",
    "def add_k_fourier(k, wires):\n",
    "    for j in range(len(wires)):\n",
    "        qml.RZ(k * np.pi / (2**j), wires=wires[j])\n",
    "        \n",
    "def substract_m_n(wires_m, wires_n):\n",
    "    # |m>|n> ->  |m - n> |n>\n",
    "    \n",
    "    qml.QFT(wires = wires_m)\n",
    "    \n",
    "    \n",
    "    for i in range(len(wires_n)):\n",
    "        qml.ctrl(add_k_fourier, control=wires_n[i])(-2 **(len(wires_n) - i - 1), wires_m)\n",
    "        \n",
    "    qml.adjoint(qml.QFT)(wires = wires_m)\n",
    "\n",
    "def is_greater(wires_m, wires_n, wires_aux, wires_target):\n",
    "    \n",
    "    wires_m_aux = [wires_aux] + list(wires_m)\n",
    "    substract_m_n(wires_m_aux, wires_n)\n",
    "    \n",
    "    qml.PauliX(wires = wires_aux)\n",
    "    qml.CNOT(wires = [wires_aux, wires_target])\n",
    "    qml.PauliX(wires = wires_aux)\n",
    "    \n",
    "    qml.adjoint(substract_m_n)(wires_m_aux, wires_n)\n",
    "    \n",
    "\n",
    "def division(wires_dividendo, wires_divisor, wires_aux_dividendo, wires_solucion, wires_aux):\n",
    "    \n",
    "    wires_dividendo_totales = wires_aux_dividendo + wires_dividendo\n",
    "    \n",
    "    for i in range(len(wires_solucion)):\n",
    "        window = wires_dividendo_totales[i - 1: len(wires_divisor)+ i]\n",
    "        if i == 0:\n",
    "            window = wires_dividendo_totales[0: len(wires_divisor)]\n",
    "        \n",
    "        is_greater(window, wires_divisor, wires_aux, wires_solucion[i])\n",
    "        qml.ctrl(substract_m_n, control = wires_solucion[i])(window, wires_divisor)"
   ]
  },
  {
   "cell_type": "code",
   "execution_count": 2,
   "id": "b4b0da81",
   "metadata": {},
   "outputs": [],
   "source": [
    "# Subrutina del HHL\n",
    "\n",
    "import scipy\n",
    "\n",
    "A = 1/64 * np.array([[15, 9, 5, -3],\n",
    "                       [9, 15, 3, -5],\n",
    "                       [5, 3, 15, -9],\n",
    "                       [-3, -5, -9, 15]])\n",
    "\n",
    "U = scipy.linalg.expm(2 * np.pi * 1j * A)\n",
    "\n",
    "\n",
    "dev = qml.device(\"default.qubit\", wires = 21)\n",
    "\n",
    "wires_b = [0,1]\n",
    "wires_divisor = [2,3,4,5]\n",
    "wires_solucion = [11,12,13,14,15]\n",
    "wires_dividendo = [6,7,8,9,10]\n",
    "wires_aux_window = [16,17,18]\n",
    "aux_div = 19\n",
    "wire_rotacion = 20\n",
    "\n",
    "def qpe_division():\n",
    "    qml.QuantumPhaseEstimation(U, wires_b, wires_divisor)\n",
    "    qml.PauliX(wires = wires_dividendo[0])\n",
    "    division(wires_dividendo, wires_divisor, wires_aux_window, wires_solucion, aux_div)\n",
    "\n",
    "@qml.qnode(dev)\n",
    "def circuit():\n",
    "\n",
    "    #inicializamos b\n",
    "    qml.Hadamard(wires = 0)\n",
    "    qml.Hadamard(wires = 1)\n",
    "\n",
    "    qpe_division()\n",
    "\n",
    "    for i in range(len(wires_solucion)):\n",
    "\n",
    "        C = 1/2 ** (len(wires_solucion)- 1)\n",
    "        qml.CRY(2 *np.arccos(2 ** (len(wires_solucion)-i-1) * C), wires = [wires_solucion[i], wire_rotacion])\n",
    "        \n",
    "    qml.PauliX(wires = wire_rotacion)\n",
    "    \n",
    "    qml.adjoint(qpe_division)()\n",
    "\n",
    "    return qml.density_matrix(wires = wires_b +  [wire_rotacion])"
   ]
  },
  {
   "cell_type": "code",
   "execution_count": 3,
   "id": "dffffecc",
   "metadata": {},
   "outputs": [],
   "source": [
    "import functools as ft\n",
    "\n",
    "def qubit_postselect_dm(meas_outputs, wires, in_state):\n",
    "    \n",
    "    num_wires = int(np.log2(len(in_state)))\n",
    "    arr = [np.identity(2) for _ in range(num_wires)]\n",
    "    for i in range(len(wires)):\n",
    "        if meas_outputs[i]=='0':\n",
    "            arr[int(wires[i])]=np.array([1,0])\n",
    "        elif meas_outputs[i]=='1':\n",
    "            arr[int(wires[i])]=np.array([0,1])\n",
    "            \n",
    "    projector = ft.reduce(np.kron,arr)\n",
    "    out_state = np.linalg.multi_dot([projector, in_state, projector.T])\n",
    "    out_state = out_state/np.trace(out_state)\n",
    "    \n",
    "    return [out_state[i][i] for i in range(len(out_state))]"
   ]
  },
  {
   "cell_type": "code",
   "execution_count": 4,
   "id": "46e7a4d3",
   "metadata": {},
   "outputs": [
    {
     "name": "stderr",
     "output_type": "stream",
     "text": [
      "/Users/guille/Documents/GitHub/pennylane/pennylane/qnode.py:823: UserWarning: The device was switched during the call of the QNode, to avoid this behaviour definean interface argument instead of auto.\n",
      "  warnings.warn(\n"
     ]
    },
    {
     "name": "stdout",
     "output_type": "stream",
     "text": [
      "[(0.002941176470605185+2.3366182719901103e-34j), (0.14411764705886757+3.614998646227333e-33j), (0.35588235294116893-1.5558228322110126e-33j), (0.49705882352935826-2.2928376412153303e-33j)]\n"
     ]
    }
   ],
   "source": [
    "dm = circuit()\n",
    "output = qubit_postselect_dm(\"1\", [2], dm)\n",
    "print(output)"
   ]
  },
  {
   "cell_type": "code",
   "execution_count": 5,
   "id": "a3923a3c",
   "metadata": {},
   "outputs": [
    {
     "name": "stderr",
     "output_type": "stream",
     "text": [
      "/Library/Frameworks/Python.framework/Versions/3.11/lib/python3.11/site-packages/matplotlib/transforms.py:762: ComplexWarning: Casting complex values to real discards the imaginary part\n",
      "  points = np.asarray(points, float)\n"
     ]
    },
    {
     "data": {
      "text/plain": [
       "<BarContainer object of 4 artists>"
      ]
     },
     "execution_count": 5,
     "metadata": {},
     "output_type": "execute_result"
    },
    {
     "data": {
      "image/png": "[encoded data removed]",
      "text/plain": [
       "<Figure size 640x480 with 1 Axes>"
      ]
     },
     "metadata": {},
     "output_type": "display_data"
    }
   ],
   "source": [
    "import matplotlib.pyplot as plt\n",
    "\n",
    "plt.bar(range(len(output)), output)"
   ]
  },
  {
   "cell_type": "code",
   "execution_count": 6,
   "id": "3edabb45",
   "metadata": {},
   "outputs": [
    {
     "data": {
      "text/plain": [
       "<BarContainer object of 4 artists>"
      ]
     },
     "execution_count": 6,
     "metadata": {},
     "output_type": "execute_result"
    },
    {
     "data": {
      "image/png": "[encoded data removed]",
      "text/plain": [
       "<Figure size 640x480 with 1 Axes>"
      ]
     },
     "metadata": {},
     "output_type": "display_data"
    }
   ],
   "source": [
    "solucion = (1/4 * np.array([-1, 7 ,11, 13])) ** 2\n",
    "\n",
    "plt.bar(range(len(solucion)), solucion)"
   ]
  },
  {
   "cell_type": "code",
   "execution_count": null,
   "id": "927235c1",
   "metadata": {},
   "outputs": [],
   "source": []
  }
 ],
 "metadata": {
  "kernelspec": {
   "display_name": "Python 3 (ipykernel)",
   "language": "python",
   "name": "python3"
  },
  "language_info": {
   "codemirror_mode": {
    "name": "ipython",
    "version": 3
   },
   "file_extension": ".py",
   "mimetype": "text/x-python",
   "name": "python",
   "nbconvert_exporter": "python",
   "pygments_lexer": "ipython3",
   "version": "3.11.1"
  }
 },
 "nbformat": 4,
 "nbformat_minor": 5
}
