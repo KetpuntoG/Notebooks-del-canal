{
 "cells": [
  {
   "cell_type": "code",
   "execution_count": 2,
   "id": "a71acecf",
   "metadata": {},
   "outputs": [
    {
     "data": {
      "text/plain": [
       "tensor([0, 1, 0], requires_grad=True)"
      ]
     },
     "execution_count": 2,
     "metadata": {},
     "output_type": "execute_result"
    }
   ],
   "source": [
    "import pennylane as qml\n",
    "from pennylane import numpy as np\n",
    "\n",
    "\n",
    "def add_k_fourier(k, wires):\n",
    "    for j in range(len(wires)):\n",
    "        qml.RZ(k * np.pi / (2**j), wires=wires[j])\n",
    "        \n",
    "def substract_m_n(wires_m, wires_n):\n",
    "    # |m>|n> ->  |m - n> |n>\n",
    "    \n",
    "    qml.QFT(wires = wires_m)\n",
    "    \n",
    "    \n",
    "    for i in range(len(wires_n)):\n",
    "        qml.ctrl(add_k_fourier, control=wires_n[i])(-2 **(len(wires_n) - i - 1), wires_m)\n",
    "        \n",
    "    qml.adjoint(qml.QFT)(wires = wires_m)\n",
    "\n",
    "dev = qml.device(\"default.qubit\", wires = 6, shots = 1)\n",
    "\n",
    "@qml.qnode(dev)\n",
    "def circuit():\n",
    "    qml.BasisEmbedding(4, wires = range(3))\n",
    "    qml.BasisEmbedding(2, wires = range(3,6))\n",
    "    substract_m_n(range(3), range(3,6))\n",
    "    return qml.sample(wires = range(3))\n",
    "\n",
    "circuit()"
   ]
  },
  {
   "cell_type": "code",
   "execution_count": null,
   "id": "ca846e2f",
   "metadata": {},
   "outputs": [],
   "source": []
  },
  {
   "cell_type": "code",
   "execution_count": 3,
   "id": "b06e8f05",
   "metadata": {},
   "outputs": [
    {
     "data": {
      "text/plain": [
       "tensor(1, requires_grad=True)"
      ]
     },
     "execution_count": 3,
     "metadata": {},
     "output_type": "execute_result"
    }
   ],
   "source": [
    "def is_greater(wires_m, wires_n, wires_aux, wires_target):\n",
    "    \n",
    "    wires_m_aux = [wires_aux] + list(wires_m)\n",
    "    substract_m_n(wires_m_aux, wires_n)\n",
    "    \n",
    "    qml.PauliX(wires = wires_aux)\n",
    "    qml.CNOT(wires = [wires_aux, wires_target])\n",
    "    qml.PauliX(wires = wires_aux)\n",
    "    \n",
    "    qml.adjoint(substract_m_n)(wires_m_aux, wires_n)\n",
    "    \n",
    "dev = qml.device(\"default.qubit\", wires = 8, shots = 1)\n",
    "\n",
    "@qml.qnode(dev)\n",
    "def circuit():\n",
    "    qml.BasisEmbedding(3, wires = range(3))\n",
    "    qml.BasisEmbedding(3, wires = range(3,6))\n",
    "    is_greater(range(3), range(3,6), 6, 7)\n",
    "    return qml.sample(wires = 7)\n",
    "\n",
    "circuit()"
   ]
  },
  {
   "cell_type": "code",
   "execution_count": 4,
   "id": "44a0f6b3",
   "metadata": {},
   "outputs": [
    {
     "data": {
      "text/plain": [
       "tensor([0, 0, 0, 1, 1, 0, 1, 1, 0, 1, 0, 0, 0, 0, 1, 0], requires_grad=True)"
      ]
     },
     "execution_count": 4,
     "metadata": {},
     "output_type": "execute_result"
    }
   ],
   "source": [
    "wires_dividendo = [0,1,2,3,4,5]\n",
    "wires_divisor = [6,7,8,9]\n",
    "wires_aux_dividendo = [10,11,12]\n",
    "wires_solucion = [13,14,15,16,17,18]\n",
    "wires_aux = 19\n",
    "\n",
    "def division(wires_dividendo, wires_divisor, wires_aux_dividendo, wires_solucion, wires_aux):\n",
    "    \n",
    "    wires_dividendo_totales = wires_aux_dividendo + wires_dividendo\n",
    "    \n",
    "    for i in range(len(wires_solucion)):\n",
    "        window = wires_dividendo_totales[i - 1: len(wires_divisor)+ i]\n",
    "        if i == 0:\n",
    "            window = wires_dividendo_totales[0: len(wires_divisor)]\n",
    "        is_greater(window, wires_divisor, wires_aux, wires_solucion[i])\n",
    "        qml.ctrl(substract_m_n, control = wires_solucion[i])(window, wires_divisor)\n",
    "        \n",
    "        \n",
    "        \n",
    "dev = qml.device(\"default.qubit\", wires = 20, shots = 1)\n",
    "\n",
    "@qml.qnode(dev)\n",
    "def circuit():\n",
    "    qml.BasisEmbedding(32, wires = wires_dividendo)\n",
    "    qml.BasisEmbedding(13, wires = wires_divisor)\n",
    "    division(wires_dividendo, wires_divisor, wires_aux_dividendo, wires_solucion, wires_aux)\n",
    "    \n",
    "    \n",
    "    return qml.sample(wires = wires_dividendo + wires_divisor + wires_solucion)\n",
    "\n",
    "circuit()"
   ]
  },
  {
   "cell_type": "code",
   "execution_count": null,
   "id": "044de658",
   "metadata": {},
   "outputs": [],
   "source": []
  }
 ],
 "metadata": {
  "kernelspec": {
   "display_name": "Python 3 (ipykernel)",
   "language": "python",
   "name": "python3"
  },
  "language_info": {
   "codemirror_mode": {
    "name": "ipython",
    "version": 3
   },
   "file_extension": ".py",
   "mimetype": "text/x-python",
   "name": "python",
   "nbconvert_exporter": "python",
   "pygments_lexer": "ipython3",
   "version": "3.11.1"
  }
 },
 "nbformat": 4,
 "nbformat_minor": 5
}
