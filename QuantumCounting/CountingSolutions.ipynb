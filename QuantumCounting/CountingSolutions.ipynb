{
 "cells": [
  {
   "cell_type": "markdown",
   "id": "ce27678a",
   "metadata": {},
   "source": [
    "# Conteo de soluciones \n",
    "\n",
    "![img](IMG_2077.jpg)\n",
    "\n",
    "![img](IMG_2079.jpg)\n",
    "\n",
    "![img](IMG_2078.jpg)"
   ]
  },
  {
   "cell_type": "code",
   "execution_count": 12,
   "id": "4b44916a",
   "metadata": {},
   "outputs": [],
   "source": [
    "import pennylane as qml\n",
    "from pennylane import numpy as np\n",
    "\n",
    "target_wires = [0,1,2,3]\n",
    "estimation_wires = [4,5,6,7,8,9,10]\n",
    "\n",
    "def U(wires):\n",
    "    \n",
    "    #oracle\n",
    "    qml.FlipSign(0, wires = wires)\n",
    "    qml.FlipSign(12, wires = wires)\n",
    "    qml.FlipSign(3, wires = wires)\n",
    "    qml.FlipSign(2, wires = wires)\n",
    "    qml.FlipSign(13, wires = wires)\n",
    "    \n",
    "    #grover\n",
    "    \n",
    "    qml.GroverOperator(wires = wires)\n",
    "    \n",
    "dev = qml.device(\"default.qubit\", wires = target_wires + estimation_wires)\n",
    "\n",
    "@qml.qnode(dev)\n",
    "def circuit():\n",
    "    \n",
    "    for wire in target_wires:\n",
    "        qml.Hadamard(wires = wire)\n",
    "        \n",
    "    matrix = qml.matrix(U)(wires = target_wires)\n",
    "    qml.QuantumPhaseEstimation(matrix, estimation_wires = estimation_wires, target_wires = target_wires)\n",
    "    return qml.probs(wires = estimation_wires)\n"
   ]
  },
  {
   "cell_type": "code",
   "execution_count": 13,
   "id": "14f0643e",
   "metadata": {},
   "outputs": [
    {
     "data": {
      "text/plain": [
       "<BarContainer object of 128 artists>"
      ]
     },
     "execution_count": 13,
     "metadata": {},
     "output_type": "execute_result"
    },
    {
     "data": {
      "image/png": "[encoded data removed]",
      "text/plain": [
       "<Figure size 640x480 with 1 Axes>"
      ]
     },
     "metadata": {},
     "output_type": "display_data"
    }
   ],
   "source": [
    "import matplotlib.pyplot as plt\n",
    "\n",
    "output = circuit()\n",
    "plt.bar(range(len(output)), output)"
   ]
  },
  {
   "cell_type": "code",
   "execution_count": 14,
   "id": "d5c4159a",
   "metadata": {},
   "outputs": [
    {
     "data": {
      "text/plain": [
       "2.552544031041707"
      ]
     },
     "execution_count": 14,
     "metadata": {},
     "output_type": "execute_result"
    }
   ],
   "source": [
    "x = np.argmax(output)\n",
    "theta = np.pi * x / (2 ** len(estimation_wires))\n",
    "theta"
   ]
  },
  {
   "cell_type": "code",
   "execution_count": 15,
   "id": "22fa207a",
   "metadata": {},
   "outputs": [
    {
     "name": "stdout",
     "output_type": "stream",
     "text": [
      "4.938532541079281\n"
     ]
    }
   ],
   "source": [
    "m = 2 ** len(target_wires) * np.sin(theta) ** 2\n",
    "print(m)"
   ]
  },
  {
   "cell_type": "code",
   "execution_count": null,
   "id": "5070fdd7",
   "metadata": {},
   "outputs": [],
   "source": []
  },
  {
   "cell_type": "code",
   "execution_count": null,
   "id": "74d5ca03",
   "metadata": {},
   "outputs": [],
   "source": []
  },
  {
   "cell_type": "code",
   "execution_count": null,
   "id": "5324a98c",
   "metadata": {},
   "outputs": [],
   "source": []
  },
  {
   "cell_type": "code",
   "execution_count": null,
   "id": "52308585",
   "metadata": {},
   "outputs": [],
   "source": []
  },
  {
   "cell_type": "code",
   "execution_count": null,
   "id": "9f0084b9",
   "metadata": {},
   "outputs": [],
   "source": []
  },
  {
   "cell_type": "code",
   "execution_count": null,
   "id": "97b85910",
   "metadata": {},
   "outputs": [],
   "source": []
  }
 ],
 "metadata": {
  "kernelspec": {
   "display_name": "Python 3 (ipykernel)",
   "language": "python",
   "name": "python3"
  },
  "language_info": {
   "codemirror_mode": {
    "name": "ipython",
    "version": 3
   },
   "file_extension": ".py",
   "mimetype": "text/x-python",
   "name": "python",
   "nbconvert_exporter": "python",
   "pygments_lexer": "ipython3",
   "version": "3.9.5"
  }
 },
 "nbformat": 4,
 "nbformat_minor": 5
}
