{
 "cells": [
  {
   "cell_type": "code",
   "execution_count": 13,
   "id": "3acc60c0-2d83-4049-a225-7d7212bcded8",
   "metadata": {},
   "outputs": [],
   "source": [
    "import pennylane as qml\n",
    "from pennylane import numpy as np\n",
    "\n",
    "A = np.array([[1.,1.],\n",
    "              [4.,2.]])\n",
    "\n",
    "b = np.array([30., 120.])"
   ]
  },
  {
   "cell_type": "code",
   "execution_count": 14,
   "id": "3fefd046-f92d-40f3-95ac-d44f63fa1a8e",
   "metadata": {},
   "outputs": [
    {
     "data": {
      "text/plain": [
       "tensor([0.24253563, 0.9701425 ], requires_grad=True)"
      ]
     },
     "execution_count": 14,
     "metadata": {},
     "output_type": "execute_result"
    }
   ],
   "source": [
    "# Normalizamos b\n",
    "\n",
    "norm_b = np.sqrt(sum(b**2))\n",
    "new_b = b / norm_b\n",
    "new_b"
   ]
  },
  {
   "cell_type": "code",
   "execution_count": 15,
   "id": "2b6dc7b2-35f1-42d4-8b1c-967c8844bff4",
   "metadata": {},
   "outputs": [
    {
     "data": {
      "text/plain": [
       "tensor([[1.+0.j, 1.+0.j],\n",
       "        [4.+0.j, 2.+0.j]], dtype=complex64, requires_grad=True)"
      ]
     },
     "execution_count": 15,
     "metadata": {},
     "output_type": "execute_result"
    }
   ],
   "source": [
    "# Descomponemos A\n",
    "\n",
    "# A = 3/2 I - 1/2 Z + 5/2 X -3/2 ZX\n",
    "\n",
    "cs = np.array([3/2, -1/2, 5/2, -3/2])\n",
    "\n",
    "def A1(wires):\n",
    "    qml.Identity(wires = wires)\n",
    "    \n",
    "def A2(wires):\n",
    "    qml.PauliZ(wires = wires)\n",
    "    \n",
    "def A3(wires):\n",
    "    qml.PauliX(wires = wires)\n",
    "    \n",
    "def A4(wires):\n",
    "    qml.PauliX(wires = wires)\n",
    "    qml.PauliZ(wires = wires)\n",
    "    \n",
    "As = [A1, A2, A3, A4]\n",
    "\n",
    "sol = np.zeros([2,2], dtype = np.complex64)\n",
    "\n",
    "for ci, Ai in zip(cs, As):\n",
    "    sol += ci * qml.matrix(Ai)(0)\n",
    "    \n",
    "sol"
   ]
  },
  {
   "cell_type": "code",
   "execution_count": 16,
   "id": "53f3d2ee-090d-4a11-9e56-c492d253d212",
   "metadata": {},
   "outputs": [],
   "source": [
    "# Definimos U tal que U|0> = |b>\n",
    "# RY|0> = cos(theta/2)|0> + sin(theta/2)|1>\n",
    "\n",
    "def U(wires):\n",
    "    qml.RY(2 * np.arccos(new_b[0]), wires = wires)\n",
    "    "
   ]
  },
  {
   "cell_type": "code",
   "execution_count": 17,
   "id": "fadd97ac-26d8-47dd-a594-4695cbac83cd",
   "metadata": {},
   "outputs": [],
   "source": [
    "# Definimos V tal que V(theta)|0> = |x>\n",
    "\n",
    "def V(theta, wires):\n",
    "    qml.RY(theta, wires = wires)"
   ]
  },
  {
   "cell_type": "markdown",
   "id": "95cf9e1b-192a-43c3-be82-4c023daec592",
   "metadata": {},
   "source": [
    "Definimos la formula de error como:\n",
    "\n",
    "$$\n",
    "2 - 2\\frac{\\sum_{i,j}c_ic_j^*\\langle 0|V^{\\dagger}A_j^{\\dagger}U|0\\rangle\\langle 0|U^{\\dagger}A_iV|0\\rangle}{\\sum_{i,j}c_ic_j^*\\langle 0|V^{\\dagger}A_j^{\\dagger}A_iV|0\\rangle}\n",
    "$$"
   ]
  },
  {
   "cell_type": "code",
   "execution_count": 18,
   "id": "f162751e-48f8-415e-be00-a5783d21fa2b",
   "metadata": {},
   "outputs": [],
   "source": [
    "# En este caso para la formula no hace falta preocuparse por \n",
    "# que salgan números complejos así que será suficiente el \n",
    "# Hadamard test que coge parte real.\n",
    "\n",
    "dev = qml.device(\"default.qubit\", wires = 2)\n",
    "\n",
    "@qml.qnode(dev)\n",
    "def h_test(op):\n",
    "    qml.Hadamard(wires = 0)\n",
    "    qml.ctrl(op, control = 0)(wires = 1)\n",
    "    qml.Hadamard(wires = 0)\n",
    "    return qml.expval(qml.PauliZ(0))\n"
   ]
  },
  {
   "cell_type": "code",
   "execution_count": 19,
   "id": "35fb7431-1610-450b-9d45-60ff4687a7f1",
   "metadata": {},
   "outputs": [
    {
     "data": {
      "text/plain": [
       "tensor(0.01996854, requires_grad=True)"
      ]
     },
     "execution_count": 19,
     "metadata": {},
     "output_type": "execute_result"
    }
   ],
   "source": [
    "# Calculamos el error con la fórmula\n",
    "\n",
    "def norm_A(theta):\n",
    "    \n",
    "    norm = 0\n",
    "    \n",
    "    for i in range(len(cs)):\n",
    "        for j in range(len(cs)):\n",
    "                   \n",
    "            def op(wires):\n",
    "                V(theta, wires = wires)\n",
    "                As[i](wires = wires)\n",
    "                qml.adjoint(As[j])(wires = wires)\n",
    "                qml.adjoint(V)(theta, wires = wires)\n",
    "                \n",
    "                \n",
    "            norm += cs[i] * cs[j] * h_test(op)\n",
    "            \n",
    "    return norm\n",
    "    \n",
    "def error(theta):\n",
    "    \n",
    "    num = 0\n",
    "    \n",
    "    for i in range(len(cs)):\n",
    "        for j in range(len(cs)):\n",
    "               \n",
    "            \n",
    "            def op1(wires):\n",
    "                V(theta, wires = wires)\n",
    "                As[i](wires = wires)\n",
    "                qml.adjoint(U)(wires = wires)\n",
    "\n",
    "            def op2(wires):\n",
    "                V(theta, wires = wires)\n",
    "                As[j](wires = wires)\n",
    "                qml.adjoint(U)(wires = wires)\n",
    "                \n",
    "            num += cs[i] * cs[j] * h_test(op1) * h_test(op2)\n",
    "            \n",
    "            \n",
    "    return 2 - 2 * num / norm_A(theta)\n",
    " \n",
    "            \n",
    "error(2)      "
   ]
  },
  {
   "cell_type": "code",
   "execution_count": 20,
   "id": "c4641bca-560c-409e-9527-9da476e6f23c",
   "metadata": {},
   "outputs": [],
   "source": [
    "theta = np.array(2., requires_grad = True)\n",
    "\n",
    "opt = qml.AdagradOptimizer(stepsize = .5)\n",
    "err = []\n",
    "epochs = 20\n",
    "\n",
    "for epoch in range(epochs):\n",
    "    \n",
    "    theta = opt.step(error, theta)\n",
    "    err.append(error(theta))\n"
   ]
  },
  {
   "cell_type": "code",
   "execution_count": 21,
   "id": "bef4e5a5-bc12-4aa7-90db-7d6240c2444f",
   "metadata": {},
   "outputs": [
    {
     "data": {
      "text/plain": [
       "[<matplotlib.lines.Line2D at 0x7fe8cd8bfc10>]"
      ]
     },
     "execution_count": 21,
     "metadata": {},
     "output_type": "execute_result"
    },
    {
     "data": {
      "image/png": "[encoded data removed]",
      "text/plain": [
       "<Figure size 640x480 with 1 Axes>"
      ]
     },
     "metadata": {},
     "output_type": "display_data"
    }
   ],
   "source": [
    "import matplotlib.pyplot as plt\n",
    "\n",
    "plt.plot(err)"
   ]
  },
  {
   "cell_type": "code",
   "execution_count": 22,
   "id": "b59dd1a6-d7e8-4d21-8f06-e4b1e93b07b6",
   "metadata": {},
   "outputs": [
    {
     "name": "stdout",
     "output_type": "stream",
     "text": [
      "[0.99963638+0.j 0.02696511+0.j]\n"
     ]
    },
    {
     "data": {
      "text/plain": [
       "tensor([0.99963638+0.j, 0.02696511+0.j], requires_grad=True)"
      ]
     },
     "execution_count": 22,
     "metadata": {},
     "output_type": "execute_result"
    }
   ],
   "source": [
    "matrix = qml.matrix(V)(theta, wires = 0)\n",
    "x = np.array([matrix[0,0], matrix[1,0]])\n",
    "print(x)\n",
    "x "
   ]
  },
  {
   "cell_type": "code",
   "execution_count": null,
   "id": "07eb86c5-9e43-4001-92f1-427be137163f",
   "metadata": {},
   "outputs": [],
   "source": []
  },
  {
   "cell_type": "code",
   "execution_count": 23,
   "id": "f664d63f-6e18-467c-8df4-105a473a4ed3",
   "metadata": {},
   "outputs": [],
   "source": [
    "solution = x * norm_b / np.sqrt(norm_A(theta))\n",
    "solution = solution.real"
   ]
  },
  {
   "cell_type": "code",
   "execution_count": 24,
   "id": "43997a8e-8a3b-47b7-b7d2-517be3223a7f",
   "metadata": {},
   "outputs": [
    {
     "name": "stdout",
     "output_type": "stream",
     "text": [
      "30 vacas y 1 gallinas\n"
     ]
    }
   ],
   "source": [
    "print(f\"{round(float(solution[0]))} vacas y {round(float(solution[1]))} gallinas\")"
   ]
  },
  {
   "cell_type": "code",
   "execution_count": null,
   "id": "2999e861-20c6-45a8-a406-6844ed1f026e",
   "metadata": {},
   "outputs": [],
   "source": []
  },
  {
   "cell_type": "code",
   "execution_count": null,
   "id": "423a3c8e-0538-40de-b01c-06162758d718",
   "metadata": {},
   "outputs": [],
   "source": []
  }
 ],
 "metadata": {
  "kernelspec": {
   "display_name": "PennyLane",
   "language": "python",
   "name": "pennylane"
  },
  "language_info": {
   "codemirror_mode": {
    "name": "ipython",
    "version": 3
   },
   "file_extension": ".py",
   "mimetype": "text/x-python",
   "name": "python",
   "nbconvert_exporter": "python",
   "pygments_lexer": "ipython3",
   "version": "3.9.13"
  }
 },
 "nbformat": 4,
 "nbformat_minor": 5
}
