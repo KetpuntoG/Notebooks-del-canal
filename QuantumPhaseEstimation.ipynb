{
 "cells": [
  {
   "cell_type": "markdown",
   "id": "fafb0933",
   "metadata": {},
   "source": [
    "# Estimación de Fase Cuántica\n",
    "\n",
    "![img](qpe_ketg.jpeg)"
   ]
  },
  {
   "cell_type": "code",
   "execution_count": 1,
   "id": "e4cec683",
   "metadata": {},
   "outputs": [],
   "source": [
    "import pennylane as qml\n",
    "import numpy as np\n",
    "\n",
    "target_wires = [0]\n",
    "estimation_wires = [1,2,3]\n",
    "\n",
    "\n",
    "dev = qml.device(\"default.qubit\", wires = target_wires + estimation_wires)\n",
    "\n",
    "@qml.qnode(dev)\n",
    "def qpe():\n",
    "    \n",
    "    \n",
    "    # Codificamos el autovector\n",
    "    qml.PauliX(wires = target_wires)\n",
    "\n",
    "    # Aplicamos Hadamards y controls\n",
    "    \n",
    "    for wire in estimation_wires:\n",
    "        qml.Hadamard(wires = wire)\n",
    "        \n",
    "    for ind, wire in enumerate(estimation_wires):\n",
    "        qml.ctrl(qml.PhaseShift, control = wire)(2 * np.pi * 0.3 * 2 ** (len(estimation_wires) - ind -1), wires = target_wires)\n",
    "        \n",
    "    # Aplicamos QFT inversa\n",
    "    \n",
    "    qml.adjoint(qml.QFT)(wires = estimation_wires)\n",
    "    \n",
    "    return qml.probs(wires = estimation_wires)\n",
    "    \n"
   ]
  },
  {
   "cell_type": "code",
   "execution_count": 2,
   "id": "215d4ef1",
   "metadata": {},
   "outputs": [
    {
     "data": {
      "text/plain": [
       "<BarContainer object of 8 artists>"
      ]
     },
     "execution_count": 2,
     "metadata": {},
     "output_type": "execute_result"
    },
    {
     "data": {
      "image/png": "[encoded data removed]",
      "text/plain": [
       "<Figure size 432x288 with 1 Axes>"
      ]
     },
     "metadata": {
      "needs_background": "light"
     },
     "output_type": "display_data"
    }
   ],
   "source": [
    "import matplotlib.pyplot as plt\n",
    "\n",
    "output = qpe()\n",
    "plt.bar(range(len(output)), output)"
   ]
  },
  {
   "cell_type": "code",
   "execution_count": 3,
   "id": "beeefe81",
   "metadata": {},
   "outputs": [
    {
     "name": "stdout",
     "output_type": "stream",
     "text": [
      "estimación:  0.25\n"
     ]
    }
   ],
   "source": [
    "print(\"estimación: \", np.argmax(output) / 2 ** len(estimation_wires))"
   ]
  },
  {
   "cell_type": "code",
   "execution_count": null,
   "id": "b541a775",
   "metadata": {},
   "outputs": [],
   "source": []
  }
 ],
 "metadata": {
  "kernelspec": {
   "display_name": "Python 3 (ipykernel)",
   "language": "python",
   "name": "python3"
  },
  "language_info": {
   "codemirror_mode": {
    "name": "ipython",
    "version": 3
   },
   "file_extension": ".py",
   "mimetype": "text/x-python",
   "name": "python",
   "nbconvert_exporter": "python",
   "pygments_lexer": "ipython3",
   "version": "3.8.9"
  }
 },
 "nbformat": 4,
 "nbformat_minor": 5
}
