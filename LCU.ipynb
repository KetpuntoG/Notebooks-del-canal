{
 "cells": [
  {
   "cell_type": "markdown",
   "id": "5e19c984",
   "metadata": {},
   "source": [
    "![lcu.jpeg](lcu.jpeg)\n"
   ]
  },
  {
   "cell_type": "code",
   "execution_count": 1,
   "id": "b8cbea2d",
   "metadata": {},
   "outputs": [
    {
     "data": {
      "text/plain": [
       "array([[0.+0.j, 1.+0.j],\n",
       "       [0.+0.j, 0.+0.j]])"
      ]
     },
     "execution_count": 1,
     "metadata": {},
     "output_type": "execute_result"
    }
   ],
   "source": [
    "import pennylane as qml\n",
    "import numpy as np\n",
    "\n",
    "H = 0.5 * qml.PauliX(0) + 0.5j * qml.PauliY(0)\n",
    "\n",
    "qml.matrix(H)"
   ]
  },
  {
   "cell_type": "code",
   "execution_count": 9,
   "id": "b93b036a",
   "metadata": {},
   "outputs": [
    {
     "data": {
      "text/plain": [
       "(<Figure size 800x300 with 1 Axes>, <Axes: >)"
      ]
     },
     "execution_count": 9,
     "metadata": {},
     "output_type": "execute_result"
    },
    {
     "data": {
      "image/png": "[encoded data removed]",
      "text/plain": [
       "<Figure size 800x300 with 1 Axes>"
      ]
     },
     "metadata": {},
     "output_type": "display_data"
    }
   ],
   "source": [
    "coeffs = np.array([0.5, 0.5])\n",
    "coeffs_sqrt = np.sqrt(coeffs)\n",
    "\n",
    "dev = qml.device(\"default.qubit\", wires = 2)\n",
    "\n",
    "@qml.qnode(dev)\n",
    "def circuit():\n",
    "    \n",
    "    qml.AmplitudeEmbedding(coeffs_sqrt, normalize = True, pad_with = 0,  wires = 0)\n",
    "    qml.ctrl(qml.PauliX, control = 0, control_values = [0])(wires = 1)\n",
    "    qml.S(wires = 0)\n",
    "    qml.ctrl(qml.PauliY, control = 0, control_values = [1])(wires = 1)\n",
    "    qml.adjoint(qml.AmplitudeEmbedding)(coeffs_sqrt, normalize = True, pad_with = 0,  wires = 0)\n",
    "    \n",
    "    return qml.state()\n",
    "\n",
    "qml.draw_mpl(circuit)()\n",
    "    "
   ]
  },
  {
   "cell_type": "code",
   "execution_count": 12,
   "id": "388da4b4",
   "metadata": {},
   "outputs": [
    {
     "name": "stdout",
     "output_type": "stream",
     "text": [
      "[[ 0.+0.j  1.+0.j  0.+0.j -0.+0.j]\n",
      " [-0.+0.j  0.+0.j -1.+0.j  0.+0.j]\n",
      " [ 0.+0.j -0.+0.j  0.+0.j  1.+0.j]\n",
      " [-1.+0.j  0.+0.j  0.+0.j  0.+0.j]]\n"
     ]
    }
   ],
   "source": [
    "print(np.round(qml.matrix(circuit)(),2))"
   ]
  },
  {
   "cell_type": "code",
   "execution_count": 8,
   "id": "699ab209",
   "metadata": {},
   "outputs": [
    {
     "data": {
      "text/plain": [
       "array([[1.+0.j, 0.+0.j],\n",
       "       [0.+0.j, 0.+1.j]])"
      ]
     },
     "execution_count": 8,
     "metadata": {},
     "output_type": "execute_result"
    }
   ],
   "source": [
    "qml.matrix(qml.S)(wires = 0)"
   ]
  },
  {
   "cell_type": "code",
   "execution_count": null,
   "id": "b4bcfb1b",
   "metadata": {},
   "outputs": [],
   "source": []
  }
 ],
 "metadata": {
  "kernelspec": {
   "display_name": "Python 3 (ipykernel)",
   "language": "python",
   "name": "python3"
  },
  "language_info": {
   "codemirror_mode": {
    "name": "ipython",
    "version": 3
   },
   "file_extension": ".py",
   "mimetype": "text/x-python",
   "name": "python",
   "nbconvert_exporter": "python",
   "pygments_lexer": "ipython3",
   "version": "3.11.1"
  }
 },
 "nbformat": 4,
 "nbformat_minor": 5
}
