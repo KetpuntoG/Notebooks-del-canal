{
  "nbformat": 4,
  "nbformat_minor": 0,
  "metadata": {
    "colab": {
      "provenance": []
    },
    "kernelspec": {
      "name": "python3",
      "display_name": "Python 3"
    },
    "language_info": {
      "name": "python"
    }
  },
  "cells": [
    {
      "cell_type": "code",
      "execution_count": 3,
      "metadata": {
        "colab": {
          "base_uri": "https://localhost:8080/"
        },
        "id": "8ur-V5F58Z0K",
        "outputId": "f4cfc4aa-159c-4772-d59c-cb3cdae4c619"
      },
      "outputs": [
        {
          "output_type": "execute_result",
          "data": {
            "text/plain": [
              "tensor(0.45005751, requires_grad=True)"
            ]
          },
          "metadata": {},
          "execution_count": 3
        }
      ],
      "source": [
        "import pennylane as qml\n",
        "from scipy.linalg import expm\n",
        "import numpy as np\n",
        "\n",
        "H = 0.2 * qml.PauliX(0) @ qml.PauliZ(1) + 0.3* qml.PauliX(0) - 2.6 * qml.PauliY(1) - 0.3 * qml.PauliX(1)\n",
        "\n",
        "\n",
        "def phi():\n",
        "  qml.Hadamard(wires = 0)\n",
        "  qml.CRY(0.3, wires = [0,1])\n",
        "\n",
        "dev1 = qml.device(\"default.qubit\", wires = H.wires)\n",
        "\n",
        "@qml.qnode(dev1)\n",
        "def circuit1():\n",
        "  phi()\n",
        "  return qml.expval(H)\n",
        "\n",
        "# <phi | H | phi>\n",
        "\n",
        "circuit1()"
      ]
    },
    {
      "cell_type": "code",
      "source": [
        "estimation_wires = [2,3,4,5,6,7,8]\n",
        "\n",
        "sum_coeffs = sum([abs(c) for c in H.coeffs])\n",
        "H_norm = qml.Hamiltonian(np.concatenate([H.coeffs / (2 * sum_coeffs), np.array([0.5])]), H.ops + [qml.Identity(0)])\n",
        "exp_H = expm(2 * np.pi * 1j * qml.matrix(H_norm))\n",
        "\n",
        "dev2 = qml.device(\"default.qubit\", wires = H.wires + estimation_wires)\n",
        "\n",
        "@qml.qnode(dev2)\n",
        "def circuit2():\n",
        "\n",
        "  phi()\n",
        "  qml.QuantumPhaseEstimation(exp_H, estimation_wires = estimation_wires, target_wires = [0,1])\n",
        "  return qml.probs(wires = estimation_wires)\n",
        "\n",
        "def energy(output):\n",
        "  return 2 * sum_coeffs * (sum([output[i] * i / 2 ** len(estimation_wires) for i in range(2 ** len(estimation_wires))]) - 0.5)\n",
        "\n",
        "output = circuit2()\n",
        "energy(output)"
      ],
      "metadata": {
        "colab": {
          "base_uri": "https://localhost:8080/"
        },
        "id": "I0XDOGJn8egd",
        "outputId": "2420e000-46c4-45ed-da53-84d10f451fd6"
      },
      "execution_count": 10,
      "outputs": [
        {
          "output_type": "execute_result",
          "data": {
            "text/plain": [
              "0.44977244757812435"
            ]
          },
          "metadata": {},
          "execution_count": 10
        }
      ]
    },
    {
      "cell_type": "code",
      "source": [
        "import matplotlib.pyplot as plt\n",
        "\n",
        "output = circuit2()\n",
        "plt.bar(range(len(output)), output)"
      ],
      "metadata": {
        "colab": {
          "base_uri": "https://localhost:8080/",
          "height": 448
        },
        "id": "RS2XzqwK_EqC",
        "outputId": "4843b6f1-01b0-455c-c477-b708f8b64356"
      },
      "execution_count": 11,
      "outputs": [
        {
          "output_type": "execute_result",
          "data": {
            "text/plain": [
              "<BarContainer object of 128 artists>"
            ]
          },
          "metadata": {},
          "execution_count": 11
        },
        {
          "output_type": "display_data",
          "data": {
            "text/plain": [
              "<Figure size 640x480 with 1 Axes>"
            ],
            "image/png": "[encoded data removed]"
          },
          "metadata": {}
        }
      ]
    },
    {
      "cell_type": "code",
      "source": [],
      "metadata": {
        "id": "PwWlhgHO_fj1"
      },
      "execution_count": null,
      "outputs": []
    }
  ]
}