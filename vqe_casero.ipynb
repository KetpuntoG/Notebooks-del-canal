{
 "cells": [
  {
   "cell_type": "code",
   "execution_count": null,
   "metadata": {},
   "outputs": [],
   "source": [
    "# objetivo: minimizar f(x0, x1, x2) = 2.x0 -4.x0.x1 + 3.x1.x2\n",
    "\n",
    "# haciendo el cambio xi = (1-zi)/2 llegamos a que queremos minimizar:\n",
    "\n",
    "# g(z0, z1, z2) = 3/4 + z1/4 -3.z2/4 - z0.z1 + 3.z1.z2/4\n",
    "\n",
    "#solución óptima:\n",
    "    #  1  1 0 en QUBO\n",
    "    # -1 -1 1 en Ising"
   ]
  },
  {
   "cell_type": "code",
   "execution_count": null,
   "metadata": {},
   "outputs": [],
   "source": [
    "# creamos cada uno de los circuitos\n",
    "\n",
    "import pennylane as qml\n",
    "\n",
    "variables = 3\n",
    "dev = qml.device(\"default.qubit\", wires = variables, shots = 1000)\n",
    "\n",
    "def phi():\n",
    "    qml.PauliX(wires = 1) \n",
    "    qml.PauliX(wires = 2)\n",
    "    \n",
    "@qml.qnode(dev)\n",
    "def circ1():\n",
    "    phi()\n",
    "    return qml.expval(qml.Identity(wires = 0) @ qml.Identity(wires = 1) @ qml.Identity(wires = 2))\n",
    "\n",
    "@qml.qnode(dev)\n",
    "def circ2():\n",
    "    phi()\n",
    "    #return qml.expval(qml.PauliZ(wires = 1))\n",
    "    return qml.expval(qml.Identity(wires = 0) @ qml.PauliZ(wires = 1) @ qml.Identity(wires = 2))\n",
    "\n",
    "@qml.qnode(dev)\n",
    "def circ3():\n",
    "    phi()\n",
    "    return qml.expval(qml.Identity(wires = 0) @ qml.Identity(wires = 1) @ qml.PauliZ(wires = 2))\n",
    "\n",
    "@qml.qnode(dev)\n",
    "def circ4():\n",
    "    phi()\n",
    "    return qml.expval(qml.PauliZ(wires = 0) @ qml.PauliZ(wires = 1) @ qml.Identity(wires = 2))\n",
    "\n",
    "@qml.qnode(dev)\n",
    "def circ5():\n",
    "    phi()\n",
    "    return qml.expval(qml.Identity(wires = 0) @ qml.PauliZ(wires = 1) @ qml.PauliZ(wires = 2))\n",
    "\n",
    "\n",
    "def value():\n",
    "    return 3*circ1()/4 + circ2()/4 - 3*circ3()/4 - circ4() + 3*circ5()/4\n",
    "\n",
    "value()"
   ]
  },
  {
   "cell_type": "code",
   "execution_count": 17,
   "metadata": {},
   "outputs": [
    {
     "name": "stdout",
     "output_type": "stream",
     "text": [
      "epoch 0 loss -0.351\n",
      "epoch 50 loss -0.6324999999999998\n",
      "epoch 100 loss -0.9185\n",
      "epoch 150 loss -1.294\n",
      "epoch 200 loss -1.5235\n",
      "epoch 250 loss -1.72\n",
      "epoch 300 loss -1.8314999999999997\n",
      "epoch 350 loss -1.8990000000000002\n",
      "epoch 400 loss -1.9409999999999998\n",
      "epoch 450 loss -1.962\n",
      "epoch 500 loss -1.968\n"
     ]
    },
    {
     "data": {
      "text/plain": [
       "array([[-1],\n",
       "       [-1],\n",
       "       [ 1]])"
      ]
     },
     "execution_count": 17,
     "metadata": {},
     "output_type": "execute_result"
    }
   ],
   "source": [
    "# creamos cada uno de los circuitos\n",
    "\n",
    "import pennylane as qml\n",
    "\n",
    "variables = 3\n",
    "dev = qml.device(\"default.qubit\", wires = variables, shots = 1000)\n",
    "\n",
    "@qml.template\n",
    "def phi(w):\n",
    "    qml.RX(w[0], wires = 0)\n",
    "    qml.RX(w[1], wires = 1)\n",
    "    qml.RX(w[2], wires = 2)\n",
    "    \n",
    "@qml.qnode(dev)\n",
    "def circ1(w):\n",
    "    phi(w)\n",
    "    return qml.expval(qml.Identity(wires = 0) @ qml.Identity(wires = 1) @ qml.Identity(wires = 2))\n",
    "\n",
    "@qml.qnode(dev)\n",
    "def circ2(w):\n",
    "    phi(w)\n",
    "    #return qml.expval(qml.PauliZ(wires = 1))\n",
    "    return qml.expval(qml.Identity(wires = 0) @ qml.PauliZ(wires = 1) @ qml.Identity(wires = 2))\n",
    "\n",
    "@qml.qnode(dev)\n",
    "def circ3(w):\n",
    "    phi(w)\n",
    "    return qml.expval(qml.Identity(wires = 0) @ qml.Identity(wires = 1) @ qml.PauliZ(wires = 2))\n",
    "\n",
    "@qml.qnode(dev)\n",
    "def circ4(w):\n",
    "    phi(w)\n",
    "    return qml.expval(qml.PauliZ(wires = 0) @ qml.PauliZ(wires = 1) @ qml.Identity(wires = 2))\n",
    "\n",
    "@qml.qnode(dev)\n",
    "def circ5(w):\n",
    "    phi(w)\n",
    "    return qml.expval(qml.Identity(wires = 0) @ qml.PauliZ(wires = 1) @ qml.PauliZ(wires = 2))\n",
    "\n",
    "\n",
    "def value(w):\n",
    "    return 3*circ1(w)/4 + circ2(w)/4 - 3*circ3(w)/4 - circ4(w) + 3*circ5(w)/4\n",
    "\n",
    "w = qml.numpy.random.rand(3) * 2*3.14\n",
    "\n",
    "gradient_fn_w = qml.grad(value, argnum=0)\n",
    "\n",
    "lr = 0.005\n",
    "for epoch in range(501):\n",
    "    w = w - lr*gradient_fn_w(w)\n",
    "    if epoch % 50 == 0:\n",
    "        print(\"epoch\", epoch, \"loss\", value(w))\n",
    "\n",
    "@qml.qnode(qml.device(\"default.qubit\", wires = variables, shots = 1)\n",
    ")\n",
    "def solucion(w):\n",
    "    phi(w)\n",
    "    return [qml.sample(qml.PauliZ(i)) for i in range(3)]\n",
    "\n",
    "solucion(w)"
   ]
  },
  {
   "cell_type": "code",
   "execution_count": null,
   "metadata": {},
   "outputs": [],
   "source": []
  },
  {
   "cell_type": "code",
   "execution_count": null,
   "metadata": {},
   "outputs": [],
   "source": []
  },
  {
   "cell_type": "code",
   "execution_count": null,
   "metadata": {},
   "outputs": [],
   "source": []
  }
 ],
 "metadata": {
  "kernelspec": {
   "display_name": "Python 3 (ipykernel)",
   "language": "python",
   "name": "python3"
  },
  "language_info": {
   "codemirror_mode": {
    "name": "ipython",
    "version": 3
   },
   "file_extension": ".py",
   "mimetype": "text/x-python",
   "name": "python",
   "nbconvert_exporter": "python",
   "pygments_lexer": "ipython3",
   "version": "3.8.3"
  }
 },
 "nbformat": 4,
 "nbformat_minor": 4
}
